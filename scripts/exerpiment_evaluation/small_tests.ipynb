{
 "cells": [
  {
   "cell_type": "code",
   "execution_count": 51,
   "metadata": {},
   "outputs": [],
   "source": [
    "import numpy as np\n",
    "import matplotlib.pyplot as plt\n",
    "import matplotlib.image as mpimg"
   ]
  },
  {
   "cell_type": "code",
   "execution_count": 52,
   "metadata": {},
   "outputs": [
    {
     "data": {
      "text/plain": [
       "array([[ 36., -32.],\n",
       "       [-32.,  84.]])"
      ]
     },
     "execution_count": 52,
     "metadata": {},
     "output_type": "execute_result"
    }
   ],
   "source": [
    "Q = np.array([[1/np.sqrt(5), 2/np.sqrt(5)],\n",
    "              [-2/np.sqrt(5),1/np.sqrt(5)]])\n",
    "Q_inv = np.linalg.inv(Q)\n",
    "lambda_mat = np.array([[100.0, 0],\n",
    "                       [0.0,  20.0]])\n",
    "D = Q@lambda_mat@Q_inv\n",
    "D"
   ]
  },
  {
   "cell_type": "code",
   "execution_count": 53,
   "metadata": {},
   "outputs": [
    {
     "name": "stdout",
     "output_type": "stream",
     "text": [
      "2 3 [2, 3]\n"
     ]
    }
   ],
   "source": [
    "xy = [2,3]\n",
    "x,y = xy\n",
    "print(x, y, xy)"
   ]
  },
  {
   "cell_type": "code",
   "execution_count": 54,
   "metadata": {},
   "outputs": [],
   "source": [
    "qolo = plt.imread(\"Qolo_T_CB_top_bumper.png\")"
   ]
  },
  {
   "cell_type": "code",
   "execution_count": 55,
   "metadata": {},
   "outputs": [],
   "source": [
    "\n",
    "# #qolo = mpimg.imread(\"Qolo_T_CB_top_bumper.png\")\n",
    "\n",
    "# height = 6\n",
    "# width = 10\n",
    "# x = 10\n",
    "# fig, ax = plt.subplots(figsize = (width, height))\n",
    "# newax = fig.add_axes([x/width,0.6,0.1,0.1])\n",
    "# newax.imshow(qolo)\n",
    "# plt.axis('off')\n",
    "# # newax.tick_params(\n",
    "# #     axis='both',          # changes apply to the x-axis\n",
    "# #     which='both',      # both major and minor ticks are affected\n",
    "# #     bottom=False,      # ticks along the bottom edge are off\n",
    "# #     top=False,         # ticks along the top edge are off\n",
    "# #     left = False,\n",
    "# #     right = False,\n",
    "# #     labelbottom=False) # labels along the bottom edge are off\n",
    "\n",
    "\n",
    "# plt.show()"
   ]
  },
  {
   "cell_type": "code",
   "execution_count": 56,
   "metadata": {},
   "outputs": [],
   "source": [
    "# from matplotlib.transforms import Affine2D\n",
    "# import mpl_toolkits.axisartist.floating_axes as floating_axes"
   ]
  },
  {
   "cell_type": "code",
   "execution_count": 57,
   "metadata": {},
   "outputs": [],
   "source": [
    "# tr = Affine2D().rotate_deg(30)\n",
    "\n",
    "# grid_helper = floating_axes.GridHelperCurveLinear(\n",
    "#     tr, extremes=(-0.5, 3.5, 0, 4),\n",
    "#     # grid_locator1=MaxNLocator(nbins=4),\n",
    "#     # grid_locator2=MaxNLocator(nbins=4),\n",
    "# )\n",
    "\n",
    "# ax1 = fig.add_subplot(\n",
    "#     131, axes_class=floating_axes.FloatingAxes, grid_helper=grid_helper\n",
    "# )\n",
    "# aux_ax = ax1.get_aux_axes(tr)\n",
    "# aux_ax.bar([0, 1, 2, 3], [3, 2, 1, 3])\n",
    "# ax1 = plt.imshow(qolo)\n",
    "\n",
    "# plt.show()"
   ]
  },
  {
   "cell_type": "code",
   "execution_count": 58,
   "metadata": {},
   "outputs": [
    {
     "data": {
      "text/plain": [
       "<matplotlib.offsetbox.AnnotationBbox at 0x13f2baaf9a0>"
      ]
     },
     "execution_count": 58,
     "metadata": {},
     "output_type": "execute_result"
    },
    {
     "data": {
      "image/png": "[encoded data removed]",
      "text/plain": [
       "<Figure size 1000x600 with 1 Axes>"
      ]
     },
     "metadata": {},
     "output_type": "display_data"
    }
   ],
   "source": [
    "from matplotlib.offsetbox import (OffsetImage, AnnotationBbox)\n",
    "#The OffsetBox is a simple container artist.\n",
    "#The child artists are meant to be drawn at a relative position to its #parent\n",
    "\n",
    "fig, ax = plt.subplots(figsize =(10,6))\n",
    "imagebox = OffsetImage(qolo, zoom = 0.05)\n",
    "#Annotation box for solar pv logo\n",
    "#Container for the imagebox referring to a specific position *xy*.\n",
    "ab = AnnotationBbox(imagebox, (0, 0.5), frameon = False)\n",
    "ax.add_artist(ab)"
   ]
  },
  {
   "cell_type": "code",
   "execution_count": 1,
   "metadata": {},
   "outputs": [],
   "source": [
    "import numpy as np"
   ]
  },
  {
   "cell_type": "code",
   "execution_count": 3,
   "metadata": {},
   "outputs": [
    {
     "name": "stdout",
     "output_type": "stream",
     "text": [
      "2 6\n"
     ]
    }
   ],
   "source": [
    "X = np.array([[1,2,3,4],[5,6,7,8]])\n",
    "r, theta = X[:,1]\n",
    "print(r,theta)"
   ]
  },
  {
   "cell_type": "code",
   "execution_count": 7,
   "metadata": {},
   "outputs": [
    {
     "name": "stdout",
     "output_type": "stream",
     "text": [
      "0\n",
      "1\n",
      "2\n"
     ]
    }
   ],
   "source": [
    "for i in range(3): \n",
    "    print(i)"
   ]
  },
  {
   "cell_type": "code",
   "execution_count": 8,
   "metadata": {},
   "outputs": [
    {
     "name": "stdout",
     "output_type": "stream",
     "text": [
      "[1 3]\n"
     ]
    }
   ],
   "source": [
    "x = np.array([1,2,3])\n",
    "y = x[[0,2]]\n",
    "print(y)"
   ]
  },
  {
   "cell_type": "code",
   "execution_count": 5,
   "metadata": {},
   "outputs": [
    {
     "data": {
      "image/png": "[encoded data removed]",
      "text/plain": [
       "<Figure size 640x480 with 1 Axes>"
      ]
     },
     "metadata": {},
     "output_type": "display_data"
    }
   ],
   "source": [
    "#blackbox io\n",
    "\n",
    "import networkx as nx\n",
    "import pylab as py\n",
    "blue_edges = [('B', 'C'), ('B', 'D'), ('B', 'E'), ('E', 'F')]\n",
    "red_edges = [('A', 'B'), ('A', 'C'), ('C', 'E'), ('D', 'E'), ('D', 'F')]\n",
    "\n",
    "G=nx.Graph() #define G\n",
    "G.add_edges_from(blue_edges)\n",
    "G.add_edges_from(red_edges)\n",
    "\n",
    "pos = {'A':(0,0), 'B':(1,1), 'C':(1,-1), 'D':(2,1), 'E':(2,-1), 'F':(3,0)}\n",
    "\n",
    "# nx.draw_networkx(G, pos=pos, edgelist = [], node_color = 'k')\n",
    "# nx.draw_networkx(G, pos=pos, nodelist = [], edgelist = blue_edges, edge_color = 'b')\n",
    "# nx.draw_networkx(G, pos=pos, nodelist = [], edgelist = red_edges, edge_color = 'r')\n",
    "\n",
    "\n",
    "nx.draw(G, pos=pos, edgelist = [], node_color = 'k')\n",
    "nx.draw(G, pos=pos, nodelist = [], edgelist = blue_edges, edge_color = 'b')\n",
    "nx.draw(G, pos=pos, nodelist = [], edgelist = red_edges, edge_color = 'r')"
   ]
  }
 ],
 "metadata": {
  "kernelspec": {
   "display_name": "Python 3.10.7 64-bit",
   "language": "python",
   "name": "python3"
  },
  "language_info": {
   "codemirror_mode": {
    "name": "ipython",
    "version": 3
   },
   "file_extension": ".py",
   "mimetype": "text/x-python",
   "name": "python",
   "nbconvert_exporter": "python",
   "pygments_lexer": "ipython3",
   "version": "3.10.7"
  },
  "orig_nbformat": 4,
  "vscode": {
   "interpreter": {
    "hash": "7a30b7485557a43924c0104e177ec6bab6e0008128359b6d23b2129353110e8f"
   }
  }
 },
 "nbformat": 4,
 "nbformat_minor": 2
}
